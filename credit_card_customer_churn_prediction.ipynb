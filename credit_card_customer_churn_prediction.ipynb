{
  "cells": [
    {
      "cell_type": "markdown",
      "metadata": {
        "id": "view-in-github",
        "colab_type": "text"
      },
      "source": [
        "<a href=\"https://colab.research.google.com/github/SurabhiInamdar/Finance_ML_Projects/blob/master/credit_card_customer_churn_prediction.ipynb\" target=\"_parent\"><img src=\"https://colab.research.google.com/assets/colab-badge.svg\" alt=\"Open In Colab\"/></a>"
      ]
    },
    {
      "metadata": {
        "id": "1rkSf5wp5Haq"
      },
      "cell_type": "markdown",
      "source": [
        "## 1. Importing Libraries"
      ]
    },
    {
      "metadata": {
        "trusted": true,
        "id": "CyAhz9lz5Har"
      },
      "cell_type": "code",
      "source": [
        "import pandas as pd\n",
        "import numpy as np\n",
        "import matplotlib.pyplot as plt\n",
        "import seaborn as sns\n",
        "import missingno as msn\n",
        "from collections import Counter"
      ],
      "execution_count": 1,
      "outputs": []
    },
    {
      "metadata": {
        "id": "VdiUe0355Hat"
      },
      "cell_type": "markdown",
      "source": [
        "## 2. Loading the Dataset"
      ]
    },
    {
      "metadata": {
        "id": "SIuIsvvb5Hau"
      },
      "cell_type": "markdown",
      "source": [
        "### Load data into a Pandas DataFrame"
      ]
    },
    {
      "metadata": {
        "trusted": true,
        "id": "SWa24fa75Hav"
      },
      "cell_type": "code",
      "source": [
        "df=pd.read_csv('./BankChurners.csv')"
      ],
      "execution_count": 2,
      "outputs": []
    },
    {
      "metadata": {
        "id": "Ff9FQ4Ot5Haw"
      },
      "cell_type": "markdown",
      "source": [
        "### Print the Datatypes of the dataset"
      ]
    },
    {
      "metadata": {
        "trusted": true,
        "id": "5cv5JlWc5Hax"
      },
      "cell_type": "code",
      "source": [
        "df.dtypes"
      ],
      "execution_count": null,
      "outputs": []
    },
    {
      "metadata": {
        "trusted": true,
        "id": "YsdnvrLo5Hay"
      },
      "cell_type": "code",
      "source": [
        "df.info()"
      ],
      "execution_count": null,
      "outputs": []
    },
    {
      "metadata": {
        "id": "LmDJBL-x5Ha0"
      },
      "cell_type": "markdown",
      "source": [
        "* This dataset has 10127 rows and 23 columns"
      ]
    },
    {
      "metadata": {
        "id": "fF8RT-1s5Ha0"
      },
      "cell_type": "markdown",
      "source": [
        "## 3. Data Cleaning"
      ]
    },
    {
      "metadata": {
        "id": "jD3PRwlj5Ha1"
      },
      "cell_type": "markdown",
      "source": [
        "### Drop duplicates if any\n"
      ]
    },
    {
      "metadata": {
        "trusted": true,
        "id": "oa-ygUpz5Ha1"
      },
      "cell_type": "code",
      "source": [
        "df.duplicated().sum()\n",
        "df.drop_duplicates(inplace=True)\n",
        "df.shape"
      ],
      "execution_count": null,
      "outputs": []
    },
    {
      "metadata": {
        "id": "ZZ6VQBvA5Ha2"
      },
      "cell_type": "markdown",
      "source": [
        "* As you can see, there are no duplicates"
      ]
    },
    {
      "metadata": {
        "id": "qZ_5SvOQ5Ha2"
      },
      "cell_type": "markdown",
      "source": [
        "### Check for the null values in each column"
      ]
    },
    {
      "metadata": {
        "trusted": true,
        "id": "bS6-w8vt5Ha3"
      },
      "cell_type": "code",
      "source": [
        "df.isnull().any()"
      ],
      "execution_count": null,
      "outputs": []
    },
    {
      "metadata": {
        "id": "9C9nXrqy5Ha3"
      },
      "cell_type": "markdown",
      "source": [
        "- As you can see, this dataset doesn't have null vaules! "
      ]
    },
    {
      "metadata": {
        "id": "KoBvTEN95Ha5"
      },
      "cell_type": "markdown",
      "source": [
        "## 4. Exploratory Data Analysis and Data Visualization"
      ]
    },
    {
      "metadata": {
        "id": "pqmCM6I05Ha6"
      },
      "cell_type": "markdown",
      "source": [
        "### Customer age distribution"
      ]
    },
    {
      "metadata": {
        "trusted": true,
        "id": "6k6rWRZW5Ha6"
      },
      "cell_type": "code",
      "source": [
        "sns.distplot(df['Customer_Age'])\n",
        "plt.title('Credit Card Customer Age Distribution')"
      ],
      "execution_count": null,
      "outputs": []
    },
    {
      "metadata": {
        "id": "zEbT_44h5Ha7"
      },
      "cell_type": "markdown",
      "source": [
        "* Customer age is normally distributed. \n",
        "* Most of the customer age are clustered around the mean value (between 40 to 60)."
      ]
    },
    {
      "metadata": {
        "id": "dwQL8yrp5Ha7"
      },
      "cell_type": "markdown",
      "source": [
        "### Proportion of customer gender count"
      ]
    },
    {
      "metadata": {
        "trusted": true,
        "id": "lfcqod_B5Ha8"
      },
      "cell_type": "code",
      "source": [
        "#count the number of gender\n",
        "df['Gender'].value_counts()"
      ],
      "execution_count": null,
      "outputs": []
    },
    {
      "metadata": {
        "trusted": true,
        "id": "47FaXtnK5Ha8"
      },
      "cell_type": "code",
      "source": [
        "# visualize gender count\n",
        "sns.countplot(data=df, x='Gender')"
      ],
      "execution_count": null,
      "outputs": []
    },
    {
      "metadata": {
        "trusted": true,
        "id": "P13-hgKO5Ha9"
      },
      "cell_type": "code",
      "source": [
        "plt.pie(df['Gender'].value_counts(), labels = ['Female', 'Male'], autopct='%1.1f%%', shadow = True, startangle = 90)\n",
        "plt.title('Proportion of Gender count', fontsize = 16)\n",
        "plt.show()"
      ],
      "execution_count": null,
      "outputs": []
    },
    {
      "metadata": {
        "id": "zD5ERwfe5Ha9"
      },
      "cell_type": "markdown",
      "source": [
        "* Proportion of gender is almost equally distributed"
      ]
    },
    {
      "metadata": {
        "id": "njKZ2-_45Ha-"
      },
      "cell_type": "markdown",
      "source": [
        "### Proportion of existing and attrited customers count"
      ]
    },
    {
      "metadata": {
        "trusted": true,
        "id": "MxHjAS9v5Ha-"
      },
      "cell_type": "code",
      "source": [
        "plt.pie(df['Attrition_Flag'].value_counts(), labels = ['Existing Customer', 'Attrited Customer'], \n",
        "        autopct='%1.1f%%', startangle = 90)\n",
        "plt.title('Proportion of Existing and Attrited Customer count', fontsize = 16)\n",
        "plt.show()"
      ],
      "execution_count": null,
      "outputs": []
    },
    {
      "metadata": {
        "id": "YgIISJCb5Ha_"
      },
      "cell_type": "markdown",
      "source": [
        "* As you can see, proportion of customer is highly imbalanced compare to proportion of gender count\n",
        "\n",
        "* So I'd like to see the proportion of existing and attrited customers by Gender! (see below)"
      ]
    },
    {
      "metadata": {
        "id": "K7s3pSkJ5Ha_"
      },
      "cell_type": "markdown",
      "source": [
        "### Proportion of existing and attrited customer by gender"
      ]
    },
    {
      "metadata": {
        "trusted": true,
        "id": "bnE1QRQm5Ha_"
      },
      "cell_type": "code",
      "source": [
        "#visualize to see the number of existing and attrited customers by gender\n",
        "plt.figure(figsize=(10,6))\n",
        "sns.countplot(x='Gender', hue='Attrition_Flag', data=df)\n",
        "plt.title('Existing and Attrted Customers by Gender', fontsize=20)"
      ],
      "execution_count": null,
      "outputs": []
    },
    {
      "metadata": {
        "trusted": true,
        "id": "W7YCX16i5Ha_"
      },
      "cell_type": "code",
      "source": [
        "# visualize to see the proportion of existing and attrited customers by gender\n",
        "\n",
        "fig,(ax1,ax2)=plt.subplots(1,2,figsize=(15,15))\n",
        "\n",
        "attrited_gender = df.loc[df[\"Attrition_Flag\"] == \"Attrited Customer\", [\"Gender\"]].value_counts().tolist()\n",
        "ax1.pie(x=attrited_gender, labels=[\"Male\", \"Female\"], autopct='%1.1f%%', startangle=90)\n",
        "ax1.set_title('Attrited Customer vs Gender', fontsize=16)\n",
        "\n",
        "existing_gender=df.loc[df[\"Attrition_Flag\"] == \"Existing Customer\", [\"Gender\"]].value_counts().tolist()\n",
        "ax2.pie(x=existing_gender,labels=[\"Male\",\"Female\"],autopct='%1.1f%%', startangle=90)\n",
        "ax2.set_title('Existing Customer vs Gender', fontsize=16)"
      ],
      "execution_count": null,
      "outputs": []
    },
    {
      "metadata": {
        "id": "Tdw5jrTA5HbA"
      },
      "cell_type": "markdown",
      "source": [
        "* The proportion of customers by gender in both pie charts is almost compareable. As you can see, there are 14.4% more attrited male than attrited female.  "
      ]
    },
    {
      "metadata": {
        "id": "kI1DwzU_5HbA"
      },
      "cell_type": "markdown",
      "source": [
        "### Proportion of entire education levels"
      ]
    },
    {
      "metadata": {
        "trusted": true,
        "id": "6mJ9VQo_5HbA"
      },
      "cell_type": "code",
      "source": [
        "edu = df['Education_Level'].value_counts().to_frame('Counts') \n",
        "plt.figure(figsize = (8,8))\n",
        "plt.pie(edu['Counts'], labels = edu.index, autopct = '%1.1f%%')\n",
        "plt.title('Proportion of Education Levels', fontsize = 18)\n",
        "plt.show()"
      ],
      "execution_count": null,
      "outputs": []
    },
    {
      "metadata": {
        "id": "KwaFykAP5HbA"
      },
      "cell_type": "markdown",
      "source": [
        "### Proportion of education level by existing and attrited customer"
      ]
    },
    {
      "metadata": {
        "trusted": true,
        "id": "qUdFdl435HbB"
      },
      "cell_type": "code",
      "source": [
        "# Proportion of education level by gender\n",
        "\n",
        "fig,(ax1,ax2)=plt.subplots(1,2,figsize=(15,15))\n",
        "\n",
        "attrited_edu = df.loc[df[\"Attrition_Flag\"] == \"Attrited Customer\", [\"Education_Level\"]].value_counts().tolist()\n",
        "ax1.pie(x=attrited_edu, labels=['Graduate', 'Post-Graduate', 'College', 'Unknown', 'Uneducated',\n",
        "                                     'Doctorate', 'High School'], autopct='%1.1f%%', startangle=90)\n",
        "ax1.set_title('Attrited Customer vs Education Level', fontsize=16)\n",
        "\n",
        "existing_edu = df.loc[df[\"Attrition_Flag\"] == \"Existing Customer\", [\"Education_Level\"]].value_counts().tolist()\n",
        "ax2.pie(x=existing_edu, labels=['Graduate', 'Post-Graduate', 'College', 'Unknown', 'Uneducated',\n",
        "                                     'Doctorate', 'High School'], autopct='%1.1f%%', startangle=90)\n",
        "ax2.set_title('Existing Customer vs Education Level', fontsize=16)\n"
      ],
      "execution_count": null,
      "outputs": []
    },
    {
      "metadata": {
        "id": "iYNNxsHs5HbB"
      },
      "cell_type": "markdown",
      "source": [
        "### Proportion of education level by gender"
      ]
    },
    {
      "metadata": {
        "trusted": true,
        "id": "q_XmJNTL5HbB"
      },
      "cell_type": "code",
      "source": [
        "# By pieplot\n",
        "\n",
        "fig,(ax1,ax2)=plt.subplots(1,2,figsize=(15,15))\n",
        "\n",
        "attrited_eduprop = df.loc[df[\"Gender\"] == \"F\", [\"Education_Level\"]].value_counts().tolist()\n",
        "ax1.pie(x=attrited_eduprop, labels=['Graduate', 'Post-Graduate', 'College', 'Unknown', 'Uneducated',\n",
        "                                     'Doctorate', 'High School'], autopct='%1.1f%%', startangle=90)\n",
        "ax1.set_title('Female vs Education Level', fontsize=16)\n",
        "\n",
        "existing_eduprop = df.loc[df[\"Gender\"] == \"M\", [\"Education_Level\"]].value_counts().tolist()\n",
        "ax2.pie(x=existing_eduprop, labels=['Graduate', 'Post-Graduate', 'College', 'Unknown', 'Uneducated',\n",
        "                                     'Doctorate', 'High School'], autopct='%1.1f%%', startangle=90)\n",
        "ax2.set_title('Male vs Education Level', fontsize=16)\n",
        "\n"
      ],
      "execution_count": null,
      "outputs": []
    },
    {
      "metadata": {
        "trusted": true,
        "id": "jAvnojN15HbC"
      },
      "cell_type": "code",
      "source": [
        "# By countplot\n",
        "plt.figure(figsize=(10,6))\n",
        "sns.countplot(x='Gender', hue='Education_Level', data=df)\n",
        "plt.title('Education Level by gender', fontsize=20)"
      ],
      "execution_count": null,
      "outputs": []
    },
    {
      "metadata": {
        "id": "NvksX4ZB5HbC"
      },
      "cell_type": "markdown",
      "source": [
        "- Proportion of education level of **both the customers and gender are concentrated on Graduate level, followed by Post-Graduate level"
      ]
    },
    {
      "metadata": {
        "id": "4NvGSne75HbC"
      },
      "cell_type": "markdown",
      "source": [
        "### Proportion of marital status by attrited and existing customers "
      ]
    },
    {
      "metadata": {
        "trusted": true,
        "id": "qFqCS0tP5HbC"
      },
      "cell_type": "code",
      "source": [
        "df['Marital_Status'].value_counts()"
      ],
      "execution_count": null,
      "outputs": []
    },
    {
      "metadata": {
        "trusted": true,
        "id": "d7fQCAaf5HbC"
      },
      "cell_type": "code",
      "source": [
        "# Proportion of marital status by customer\n",
        "\n",
        "fig,(ax1,ax2)=plt.subplots(1,2,figsize=(15,15))\n",
        "\n",
        "attrited_mar = df.loc[df[\"Attrition_Flag\"] == \"Attrited Customer\", [\"Marital_Status\"]].value_counts().tolist()\n",
        "ax1.pie(x=attrited_mar, labels=['Married', 'Single', 'Unknown', 'Divorced'], autopct='%1.1f%%', startangle=90)\n",
        "ax1.set_title('Attrited Customer vs Marital_Status', fontsize=16)\n",
        "\n",
        "existing_mar = df.loc[df[\"Attrition_Flag\"] == \"Existing Customer\", [\"Marital_Status\"]].value_counts().tolist()\n",
        "ax2.pie(x=existing_mar, labels=['Married', 'Single', 'Unknown', 'Divorced'], autopct='%1.1f%%', startangle=90)\n",
        "ax2.set_title('Existing Customer vs Marital_Status', fontsize=16)\n"
      ],
      "execution_count": null,
      "outputs": []
    },
    {
      "metadata": {
        "trusted": true,
        "id": "kgD5jNW45HbD"
      },
      "cell_type": "code",
      "source": [
        "# By countplot\n",
        "plt.figure(figsize=(10,6))\n",
        "sns.countplot(x='Attrition_Flag', hue='Marital_Status', data=df)\n",
        "plt.title('Attrited and Existing Customers by Marital Status', fontsize=20)"
      ],
      "execution_count": null,
      "outputs": []
    },
    {
      "metadata": {
        "id": "XDGdQIYP5HbD"
      },
      "cell_type": "markdown",
      "source": [
        "- A high proportion of marital status in attrited customer is Married status (43.6%), followed by Single (41.1%)"
      ]
    },
    {
      "metadata": {
        "id": "O3cczk4f5HbD"
      },
      "cell_type": "markdown",
      "source": [
        "### Proportion of income category by customer"
      ]
    },
    {
      "metadata": {
        "trusted": true,
        "id": "PqfxJFlI5HbD"
      },
      "cell_type": "code",
      "source": [
        "# Proportion of income category by customer\n",
        "\n",
        "fig,(ax1,ax2)=plt.subplots(1,2,figsize=(15,15))\n",
        "count = Counter(df['Income_Category'])\n",
        "\n",
        "attrited_inc = df.loc[df[\"Attrition_Flag\"] == \"Attrited Customer\", [\"Income_Category\"]].value_counts().tolist()\n",
        "ax1.pie(x=attrited_inc, labels=count, autopct='%1.1f%%', startangle=90)\n",
        "ax1.set_title('Attrited Customer vs Income_Category', fontsize=16)\n",
        "\n",
        "existing_inc = df.loc[df[\"Attrition_Flag\"] == \"Existing Customer\", [\"Income_Category\"]].value_counts().tolist()\n",
        "ax2.pie(x=existing_inc, labels=count, autopct='%1.1f%%', startangle=90)\n",
        "ax2.set_title('Existing Customer vs Income_Category', fontsize=16)\n"
      ],
      "execution_count": null,
      "outputs": []
    },
    {
      "metadata": {
        "id": "M-KR0qDn5HbE"
      },
      "cell_type": "markdown",
      "source": [
        "- The proportion of income category of both attrited and existing customers shows us that it is highy concentrated around 60K-80K income."
      ]
    },
    {
      "metadata": {
        "id": "EK9ONE4B5HbE"
      },
      "cell_type": "markdown",
      "source": [
        "## Correlation using heatmap "
      ]
    },
    {
      "metadata": {
        "trusted": true,
        "id": "Gx9taLuj5HbE"
      },
      "cell_type": "code",
      "source": [
        "f, ax = plt.subplots(figsize=(12, 8)) \n",
        "sns.heatmap(df.corr(), annot=True, cmap=\"Blues\") \n",
        "plt.show()"
      ],
      "execution_count": null,
      "outputs": []
    },
    {
      "metadata": {
        "id": "c0ZQ_KjT5HbE"
      },
      "cell_type": "markdown",
      "source": [
        "### Customer age count by customer"
      ]
    },
    {
      "metadata": {
        "trusted": true,
        "id": "3yMebB9r5HbF"
      },
      "cell_type": "code",
      "source": [
        "plt.figure(figsize=(12,6))\n",
        "sns.countplot(x='Customer_Age', data=df, hue='Attrition_Flag')"
      ],
      "execution_count": null,
      "outputs": []
    },
    {
      "metadata": {
        "id": "xFwNwSAU5HbF"
      },
      "cell_type": "markdown",
      "source": [
        "# 5. Customer Churn Prediciton\n",
        "\n",
        "Since we require **numerical values** for the predictive model ,the categorical columns need to be transformed. Hence **label encoding** is done."
      ]
    },
    {
      "metadata": {
        "id": "TU0cQ_n85HbF"
      },
      "cell_type": "markdown",
      "source": [
        "### Preprocessing to transform categorial to numerical to data pridiction"
      ]
    },
    {
      "metadata": {
        "trusted": true,
        "id": "swotY8nL5HbG"
      },
      "cell_type": "code",
      "source": [
        "from sklearn.metrics import classification_report\n",
        "from sklearn.preprocessing import OneHotEncoder\n",
        "from sklearn.model_selection import train_test_split\n",
        "from sklearn.preprocessing import MinMaxScaler\n",
        "from sklearn.ensemble import RandomForestClassifier\n",
        "from sklearn.ensemble import GradientBoostingClassifier\n",
        "from sklearn.linear_model import LogisticRegression\n",
        "from sklearn.preprocessing import LabelEncoder\n",
        "from sklearn.metrics import confusion_matrix\n",
        "from sklearn.metrics import roc_auc_score, average_precision_score, recall_score\n",
        "from sklearn.model_selection import RandomizedSearchCV"
      ],
      "execution_count": null,
      "outputs": []
    },
    {
      "metadata": {
        "trusted": true,
        "id": "0Wv79Abx5HbG"
      },
      "cell_type": "code",
      "source": [
        "df_categorical = df[['Gender', 'Education_Level', 'Marital_Status', 'Income_Category', 'Card_Category']]\n",
        "df_categorical.head()"
      ],
      "execution_count": null,
      "outputs": []
    },
    {
      "metadata": {
        "trusted": true,
        "id": "gxBChIJu5HbG"
      },
      "cell_type": "code",
      "source": [
        "df_numerical = df[['Customer_Age', 'Months_on_book', 'Total_Relationship_Count', 'Months_Inactive_12_mon', 'Contacts_Count_12_mon', 'Credit_Limit',\n",
        "                      'Total_Revolving_Bal', 'Avg_Open_To_Buy', 'Total_Amt_Chng_Q4_Q1', 'Total_Trans_Amt', 'Total_Trans_Ct',\n",
        "                      'Total_Ct_Chng_Q4_Q1', 'Avg_Utilization_Ratio']]\n",
        "df_numerical.head()"
      ],
      "execution_count": null,
      "outputs": []
    },
    {
      "metadata": {
        "trusted": true,
        "id": "qjh0qSjP5HbG"
      },
      "cell_type": "code",
      "source": [
        "enc = OneHotEncoder()\n",
        "df_categorical_enc = pd.DataFrame(enc.fit_transform(df_categorical).toarray())\n",
        "df_categorical_enc.head()"
      ],
      "execution_count": null,
      "outputs": []
    },
    {
      "metadata": {
        "id": "MFSkCM1P5HbH"
      },
      "cell_type": "markdown",
      "source": [
        "### Merge categorical and numerical dataframe"
      ]
    },
    {
      "metadata": {
        "trusted": true,
        "id": "_zhyVTEC5HbH"
      },
      "cell_type": "code",
      "source": [
        "df_all = pd.concat([df_categorical_enc, df_numerical], axis=1)\n",
        "df_all.head()"
      ],
      "execution_count": null,
      "outputs": []
    },
    {
      "metadata": {
        "trusted": true,
        "id": "YbP8hELk5HbH"
      },
      "cell_type": "code",
      "source": [
        "X = df_all"
      ],
      "execution_count": null,
      "outputs": []
    },
    {
      "metadata": {
        "trusted": true,
        "id": "NVNyiQxj5HbH"
      },
      "cell_type": "code",
      "source": [
        "y = df['Attrition_Flag']"
      ],
      "execution_count": null,
      "outputs": []
    },
    {
      "metadata": {
        "trusted": true,
        "id": "DUJnoUvB5HbI"
      },
      "cell_type": "code",
      "source": [
        "le = LabelEncoder()\n",
        "y = le.fit_transform(y)"
      ],
      "execution_count": null,
      "outputs": []
    },
    {
      "metadata": {
        "id": "rcPJ3nmC5HbI"
      },
      "cell_type": "markdown",
      "source": [
        "### Test Train Split"
      ]
    },
    {
      "metadata": {
        "trusted": true,
        "id": "uromyBdr5HbI"
      },
      "cell_type": "code",
      "source": [
        "X_train, X_test, y_train, y_test = train_test_split(X, y, test_size=0.30, random_state=42)"
      ],
      "execution_count": null,
      "outputs": []
    },
    {
      "metadata": {
        "trusted": true,
        "id": "MOaNCbXB5HbI"
      },
      "cell_type": "code",
      "source": [
        "scaler = MinMaxScaler()\n",
        "\n",
        "X_train = scaler.fit_transform(X_train)\n",
        "X_test = scaler.transform(X_test)"
      ],
      "execution_count": null,
      "outputs": []
    },
    {
      "metadata": {
        "trusted": true,
        "id": "zDbnwKOo5HbJ"
      },
      "cell_type": "code",
      "source": [
        "target_names = ['Attrited Customer', 'Existing Customer']"
      ],
      "execution_count": null,
      "outputs": []
    },
    {
      "metadata": {
        "trusted": true,
        "id": "cI6yT4-75HbJ"
      },
      "cell_type": "code",
      "source": [
        "parameters_randomforest = {'n_estimators':range(10,400,5), 'max_depth':range(2,8,2)}"
      ],
      "execution_count": null,
      "outputs": []
    },
    {
      "metadata": {
        "id": "whHVHaNa5HbJ"
      },
      "cell_type": "markdown",
      "source": [
        "### RandomForestClassifier"
      ]
    },
    {
      "metadata": {
        "trusted": true,
        "id": "xetYFFOK5HbJ"
      },
      "cell_type": "code",
      "source": [
        "randomforest = RandomForestClassifier(class_weight = 'balanced')\n",
        "clf_randomforest = RandomizedSearchCV(randomforest, parameters_randomforest, random_state=0)\n",
        "clf_randomforest.fit(X_train, y_train)"
      ],
      "execution_count": null,
      "outputs": []
    },
    {
      "metadata": {
        "trusted": true,
        "id": "jNfBZKhd5HbJ"
      },
      "cell_type": "code",
      "source": [
        "y_pred_randomforest = clf_randomforest.predict(X_test)"
      ],
      "execution_count": null,
      "outputs": []
    },
    {
      "metadata": {
        "trusted": true,
        "id": "YyxANuzj5HbK"
      },
      "cell_type": "code",
      "source": [
        "average_precision_score(y_test, y_pred_randomforest), roc_auc_score(y_test, y_pred_randomforest)"
      ],
      "execution_count": null,
      "outputs": []
    },
    {
      "metadata": {
        "trusted": true,
        "id": "U_7-wdMD5HbK"
      },
      "cell_type": "code",
      "source": [
        "print(classification_report(y_test, y_pred_randomforest, target_names=target_names))"
      ],
      "execution_count": null,
      "outputs": []
    },
    {
      "metadata": {
        "trusted": true,
        "id": "I4TZpw8o5HbK"
      },
      "cell_type": "code",
      "source": [
        "parameters_gb = {'learning_rate':(0.1,0.01), 'n_estimators':range(10,400,5),\n",
        "                'max_depth':range(2,8,2)\n",
        "              }"
      ],
      "execution_count": null,
      "outputs": []
    },
    {
      "metadata": {
        "trusted": true,
        "id": "HXsYYU4Y5HbK"
      },
      "cell_type": "code",
      "source": [
        "gb = GradientBoostingClassifier()\n",
        "\n",
        "clf_gb = RandomizedSearchCV(gb, parameters_gb, random_state=0)\n",
        "\n",
        "clf_gb.fit(X_train, y_train)"
      ],
      "execution_count": null,
      "outputs": []
    },
    {
      "metadata": {
        "trusted": true,
        "id": "AQ7AsWBl5HbK"
      },
      "cell_type": "code",
      "source": [
        "y_pred_gb = clf_gb.predict(X_test)"
      ],
      "execution_count": null,
      "outputs": []
    },
    {
      "metadata": {
        "trusted": true,
        "id": "POQbvlOH5HbL"
      },
      "cell_type": "code",
      "source": [
        "average_precision_score(y_test, y_pred_gb), roc_auc_score(y_test, y_pred_gb)"
      ],
      "execution_count": null,
      "outputs": []
    },
    {
      "metadata": {
        "trusted": true,
        "id": "hgdgrysQ5HbL"
      },
      "cell_type": "code",
      "source": [
        "sns.heatmap(confusion_matrix(y_test, y_pred_gb), annot=True)"
      ],
      "execution_count": null,
      "outputs": []
    },
    {
      "metadata": {
        "trusted": true,
        "id": "oZwZ76G45HbL"
      },
      "cell_type": "code",
      "source": [
        "print(classification_report(y_test, y_pred_gb, target_names=target_names))"
      ],
      "execution_count": null,
      "outputs": []
    },
    {
      "metadata": {
        "trusted": true,
        "id": "ciK3VN6F5HbL"
      },
      "cell_type": "code",
      "source": [
        "clf_lg = LogisticRegression(C=0.5, penalty='l2',n_jobs=6, random_state=0)\n",
        "\n",
        "clf_lg.fit(X_train, y_train)"
      ],
      "execution_count": null,
      "outputs": []
    },
    {
      "metadata": {
        "trusted": true,
        "id": "Gfe4I6i-5HbM"
      },
      "cell_type": "code",
      "source": [
        "y_pred_lg = clf_lg.predict(X_test)"
      ],
      "execution_count": null,
      "outputs": []
    },
    {
      "metadata": {
        "trusted": true,
        "id": "1LzKgdZh5HbM"
      },
      "cell_type": "code",
      "source": [
        "average_precision_score(y_test, y_pred_lg), roc_auc_score(y_test, y_pred_lg)"
      ],
      "execution_count": null,
      "outputs": []
    },
    {
      "metadata": {
        "trusted": true,
        "id": "y1luaRqU5HbM"
      },
      "cell_type": "code",
      "source": [
        "sns.heatmap(confusion_matrix(y_test, y_pred_lg), annot=True)"
      ],
      "execution_count": null,
      "outputs": []
    },
    {
      "metadata": {
        "trusted": true,
        "id": "VN0dp6cX5HbM"
      },
      "cell_type": "code",
      "source": [
        "print(classification_report(y_test, y_pred_lg, target_names=target_names))"
      ],
      "execution_count": null,
      "outputs": []
    },
    {
      "metadata": {
        "trusted": true,
        "id": "fSJK8XzM5HbM"
      },
      "cell_type": "code",
      "source": [
        "y_pred_all = (0.5*y_pred_gb) + (y_pred_randomforest*0.3) + (y_pred_lg*0.2)"
      ],
      "execution_count": null,
      "outputs": []
    },
    {
      "metadata": {
        "trusted": true,
        "id": "JyFtQEnW5HbN"
      },
      "cell_type": "code",
      "source": [
        "average_precision_score(y_test, y_pred_all), roc_auc_score(y_test, y_pred_all)"
      ],
      "execution_count": null,
      "outputs": []
    },
    {
      "metadata": {
        "id": "X2BPJZmB5HbN"
      },
      "cell_type": "markdown",
      "source": [
        "## 6. Conclusion"
      ]
    },
    {
      "metadata": {
        "id": "7udHAwV45HbN"
      },
      "cell_type": "markdown",
      "source": [
        "### How can the bank stop the credit card customers who have churned?\n",
        "   * There are 16.07% of customers who have churned.\n",
        "   * The proportion of gender count is almost equally distributed (52.9% male and 47.1%) compare to proportion of existing and attributed customer count (83.9% and 16.1%) which is highly imbalanced.\n",
        "   * The proportion of attrited customers by gender **there are 14.4% more male than female who have churned** \n",
        "   * **Customers who have churned are highly educated** - A high proportion of education level of attrited customer is Graduate level (29.9%), followed by Post-Graduate level (18.8%)** \n",
        "   * A high proportion of marital status of customers who have churned is Married (43.6%), followed by Single (41.1%) compared to Divorced (7.4%) and Unknown (7.9%) status  - **marital status of the attributed customers are highly clustered in Married status and Single** \n",
        "   * As you can see from the proportion of income category of attrited customer, it is highly concentrated around 60K - 80K income (37.6%), followed by Less than 40K income (16.7%) compare to attrited customers with higher annual income of 80K-120K(14.9%) and over 120K+ (11.5%). **I assume that customers with higher income doesn't likely leave their credit card services than meddle-income customers** "
      ]
    },
    {
      "cell_type": "code",
      "source": [],
      "metadata": {
        "id": "Xa8kwFoG5xXp"
      },
      "execution_count": null,
      "outputs": []
    }
  ],
  "metadata": {
    "kernelspec": {
      "language": "python",
      "display_name": "Python 3",
      "name": "python3"
    },
    "language_info": {
      "pygments_lexer": "ipython3",
      "nbconvert_exporter": "python",
      "version": "3.6.4",
      "file_extension": ".py",
      "codemirror_mode": {
        "name": "ipython",
        "version": 3
      },
      "name": "python",
      "mimetype": "text/x-python"
    },
    "colab": {
      "provenance": [],
      "include_colab_link": true
    }
  },
  "nbformat": 4,
  "nbformat_minor": 0
}